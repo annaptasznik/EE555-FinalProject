{
 "cells": [
  {
   "cell_type": "markdown",
   "id": "4e946ed2",
   "metadata": {},
   "source": [
    "### Load Data"
   ]
  },
  {
   "cell_type": "code",
   "execution_count": 1,
   "id": "ae8ca9aa",
   "metadata": {},
   "outputs": [],
   "source": [
    "import numpy as np\n",
    "from sklearn.svm import SVR\n",
    "from sklearn.metrics import mean_squared_error\n",
    "import matplotlib.pyplot as plt"
   ]
  },
  {
   "cell_type": "code",
   "execution_count": null,
   "id": "2c3d8ece",
   "metadata": {},
   "outputs": [],
   "source": [
    "'''\n",
    "print(select.index.shape)\n",
    "print(select[y1].shape)\n",
    "\n",
    "print(select['PL'].values)\n",
    "\n",
    "x = select.iloc[:, 1:].values # select.index\n",
    "y = select['PL'].values\n",
    "\n",
    "print(x.size)\n",
    "'''\n",
    "\n",
    "'''\n",
    "nonan = select.dropna()\n",
    "x = nonan.iloc[:, 1:].values\n",
    "y = nonan['PL'].values\n",
    "\n",
    "svr = SVR().fit(x, y)\n",
    "print(svr)\n",
    "'''\n",
    "\n",
    "\n",
    "#yfit = svr.predict(x)\n",
    "\n",
    "\n",
    "'''\n",
    "#plt.scatter(x, y, s=5, color=\"blue\", label=\"original\")\n",
    "\n",
    "plt.plot(x, yfit, lw=2, color=\"red\", label=\"fitted\")\n",
    "select.plot()\n",
    "plt.legend()\n",
    "plt.show()\n",
    "'''"
   ]
  }
 ],
 "metadata": {
  "kernelspec": {
   "display_name": "Python 3 (ipykernel)",
   "language": "python",
   "name": "python3"
  },
  "language_info": {
   "codemirror_mode": {
    "name": "ipython",
    "version": 3
   },
   "file_extension": ".py",
   "mimetype": "text/x-python",
   "name": "python",
   "nbconvert_exporter": "python",
   "pygments_lexer": "ipython3",
   "version": "3.9.7"
  }
 },
 "nbformat": 4,
 "nbformat_minor": 5
}
