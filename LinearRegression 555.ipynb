{
 "cells": [
  {
   "cell_type": "code",
   "execution_count": 53,
   "metadata": {},
   "outputs": [],
   "source": [
    "import pandas as pd\n",
    "import matplotlib.pyplot as plt\n",
    "import numpy as np\n",
    "import sklearn.metrics\n",
    "from sklearn.linear_model import LinearRegression\n",
    "from sklearn.linear_model import LogisticRegression\n",
    "from sklearn.model_selection import GridSearchCV\n",
    "from sklearn.model_selection import train_test_split\n",
    "from sklearn.preprocessing import MinMaxScaler\n",
    "import warnings\n",
    "warnings.filterwarnings('ignore')"
   ]
  },
  {
   "cell_type": "code",
   "execution_count": 54,
   "metadata": {},
   "outputs": [],
   "source": [
    "#import data \n",
    "import csv\n",
    "df = pd.read_csv(r'C:\\Users\\rackley\\Desktop\\grad school\\555\\EE555-FinalProject-main\\load_per_country.csv', parse_dates=['DateTime'], index_col = ['DateTime'])\n",
    "gdp = pd.read_csv(r'C:\\Users\\rackley\\Desktop\\grad school\\555\\EE555-FinalProject-main\\gdp_per_country.csv', parse_dates=['DateTime'], index_col = ['DateTime'])\n",
    "pop = pd.read_csv(r'C:\\Users\\rackley\\Desktop\\grad school\\555\\EE555-FinalProject-main\\population_per_country.csv', parse_dates=['DateTime'], index_col = ['DateTime'])\n",
    "tmp =  pd.read_csv(r'C:\\Users\\rackley\\Desktop\\grad school\\555\\EE555-FinalProject-main\\tmp_per_country.csv', parse_dates=['DateTime'], index_col = ['DateTime'])\n",
    "\n"
   ]
  },
  {
   "cell_type": "code",
   "execution_count": 55,
   "metadata": {},
   "outputs": [],
   "source": [
    "#join all information\n",
    "joined = df.join(gdp, on='DateTime', how='left', lsuffix = '', rsuffix = '_GDP', sort=False)\n",
    "joined = joined.join(pop, on='DateTime', how='left', lsuffix = '', rsuffix = '_POP', sort=False)\n",
    "joined = joined.join(tmp, on='DateTime', how='left', lsuffix = '', rsuffix = '_TMP', sort=False)\n",
    "joined = joined.replace(',','', regex=True)\n",
    "joined_interpolate = joined.interpolate(method='ffill') # or method='index' works too\n",
    "\n"
   ]
  },
  {
   "cell_type": "code",
   "execution_count": 56,
   "metadata": {},
   "outputs": [],
   "source": [
    "#data for Poland [PL] and Germany [DE]\n",
    "country_datasets = []\n",
    "country_list = ['PL', 'DE']\n",
    "\n",
    "for country in country_list: \n",
    "    country_dataset = joined_interpolate[[country, country + '_GDP', country+ '_POP', country+'_TMP']]\n",
    "    country_datasets.append([country, country_dataset])\n",
    "\n",
    "for each in country_datasets: \n",
    "    name = each[0]\n",
    "    dataset = each[1]\n",
    "    "
   ]
  },
  {
   "cell_type": "code",
   "execution_count": 57,
   "metadata": {},
   "outputs": [],
   "source": [
    "nonan = dataset.dropna()\n",
    "#nonan = nonan.groupby(pd.Grouper(level='DateTime', axis=0, freq='24H')).sum()\n",
    "\n",
    "nonan = nonan.groupby(pd.Grouper(level='DateTime', axis=0, freq='M')).sum()\n",
    "\n",
    "# normalize\n",
    "nonan = nonan / nonan.max(axis=0) # works\n",
    "\n",
    "\n",
    "x_train, x_test, y_train, y_test = train_test_split(nonan.iloc[:, :1].values, nonan['DE'].values,test_size=0.2)\n"
   ]
  },
  {
   "cell_type": "code",
   "execution_count": 79,
   "metadata": {},
   "outputs": [
    {
     "name": "stdout",
     "output_type": "stream",
     "text": [
      "Coefficients: \n",
      " [1.]\n",
      "Mean squared error: 0.00\n",
      "Coefficient of determination: 1.00\n"
     ]
    },
    {
     "data": {
      "image/png": "[encoded data removed]",
      "text/plain": [
       "<Figure size 432x288 with 1 Axes>"
      ]
     },
     "metadata": {
      "needs_background": "light"
     },
     "output_type": "display_data"
    }
   ],
   "source": [
    "# logistic regression\n",
    "from sklearn import preprocessing\n",
    "import matplotlib.pyplot as plt \n",
    "plt.rc(\"font\", size=14)\n",
    "from sklearn import linear_model\n",
    "from sklearn.linear_model import LinearRegression\n",
    "from sklearn.model_selection import train_test_split\n",
    "from sklearn import datasets, linear_model\n",
    "from sklearn.metrics import mean_squared_error, r2_score\n",
    "\n",
    "\n",
    "#Create linear regression\n",
    "reg = linear_model.LinearRegression()\n",
    "\n",
    "#Train the model using the training sets \n",
    "reg.fit(x_train,y_train)\n",
    "\n",
    "#Making a predictions using test set \n",
    "GDP_y_pred = reg.predict(x_test)\n",
    "\n",
    "#The coefficients \n",
    "print(\"Coefficients: \\n\", reg.coef_)\n",
    "#The mean squared error \n",
    "print(\"Mean squared error: %.2f\"% mean_squared_error(y_test, GDP_y_pred))\n",
    "#the coefficient of determination : 1 is perfect prediction \n",
    "print(\"Coefficient of determination: %.2f\" % r2_score(y_test, GDP_y_pred))\n",
    "\n",
    "#plot outputs \n",
    "plt.scatter(x_test, y_test, color =\"black\")\n",
    "plt.plot(x_test, GDP_y_pred, color =\"blue\", linewidth=1)\n",
    "\n",
    "#plt.xticks(())\n",
    "#plt.yticks(())\n",
    "\n",
    "plt.ylabel('')\n",
    "plt.xlabel('')\n",
    "\n",
    "plt.show()\n",
    "\n"
   ]
  },
  {
   "cell_type": "code",
   "execution_count": null,
   "metadata": {},
   "outputs": [],
   "source": []
  }
 ],
 "metadata": {
  "kernelspec": {
   "display_name": "Python 3",
   "language": "python",
   "name": "python3"
  },
  "language_info": {
   "codemirror_mode": {
    "name": "ipython",
    "version": 3
   },
   "file_extension": ".py",
   "mimetype": "text/x-python",
   "name": "python",
   "nbconvert_exporter": "python",
   "pygments_lexer": "ipython3",
   "version": "3.8.8"
  }
 },
 "nbformat": 4,
 "nbformat_minor": 2
}
