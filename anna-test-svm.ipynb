{
 "cells": [
  {
   "cell_type": "code",
   "execution_count": 1,
   "metadata": {},
   "outputs": [],
   "source": [
    "import pandas as pd\n",
    "import matplotlib.pyplot as plt"
   ]
  },
  {
   "cell_type": "markdown",
   "metadata": {},
   "source": [
    "### Import Data\n",
    "\n",
    "Read the data from our .csv file."
   ]
  },
  {
   "cell_type": "code",
   "execution_count": 2,
   "metadata": {},
   "outputs": [
    {
     "name": "stdout",
     "output_type": "stream",
     "text": [
      "(87648, 40)\n",
      "(10, 34)\n"
     ]
    }
   ],
   "source": [
    "df = pd.read_csv('load_per_country.csv', parse_dates=['DateTime'], index_col = ['DateTime'])\n",
    "gdp = pd.read_csv('gdp_per_country.csv', parse_dates=['DateTime'], index_col = ['DateTime'])\n",
    "pop = pd.read_csv('population_per_country.csv', parse_dates=['DateTime'], index_col = ['DateTime'])\n",
    "tmp =  pd.read_csv('tmp_per_country.csv', parse_dates=['DateTime'], index_col = ['DateTime'])\n",
    "\n",
    "joined = df.join(gdp, on='DateTime', how='left', lsuffix = '', rsuffix = '_GDP', sort=False)\n",
    "\n",
    "print(df.shape)\n",
    "print(gdp.shape)"
   ]
  },
  {
   "cell_type": "code",
   "execution_count": 6,
   "metadata": {},
   "outputs": [
    {
     "name": "stdout",
     "output_type": "stream",
     "text": [
      "                           Date     Time      AT      BA      BE      BG  \\\n",
      "DateTime                                                                   \n",
      "2006-01-01 00:00:00    1/1/2006     0:00  6297.0  1425.0  9829.0  4293.0   \n",
      "2006-01-01 01:00:00    1/1/2006  1:00 AM  6005.0  1358.0  9447.0  4186.0   \n",
      "2006-01-01 02:00:00    1/1/2006  2:00 AM  5743.0  1283.0  9062.0  4026.0   \n",
      "2006-01-01 03:00:00    1/1/2006  3:00 AM  5397.0  1175.0  8589.0  3877.0   \n",
      "2006-01-01 04:00:00    1/1/2006  4:00 AM  5213.0  1134.0  8247.0  3724.0   \n",
      "...                         ...      ...     ...     ...     ...     ...   \n",
      "2015-12-31 19:00:00  12/31/2015    19:00  8039.0  1959.0  9377.0  6353.0   \n",
      "2015-12-31 20:00:00  12/31/2015    20:00  7521.0  1810.0  8908.0  5740.0   \n",
      "2015-12-31 21:00:00  12/31/2015    21:00  7223.0  1680.0  8682.0  5273.0   \n",
      "2015-12-31 22:00:00  12/31/2015    22:00  7424.0  1606.0  9045.0  5161.0   \n",
      "2015-12-31 23:00:00  12/31/2015    23:00  7094.0  1537.0  9176.0  5105.0   \n",
      "\n",
      "                         CH      CS     CY      CZ  ...  LV_TMP  MK_TMP  \\\n",
      "DateTime                                            ...                   \n",
      "2006-01-01 00:00:00     0.0  5781.0    NaN  6631.0  ...    -5.9    -2.7   \n",
      "2006-01-01 01:00:00     0.0  5747.0    NaN  6346.0  ...     NaN     NaN   \n",
      "2006-01-01 02:00:00     0.0  5380.0    NaN  6365.0  ...     NaN     NaN   \n",
      "2006-01-01 03:00:00     0.0  4978.0    NaN  6134.0  ...     NaN     NaN   \n",
      "2006-01-01 04:00:00     0.0  4735.0    NaN  6361.0  ...     NaN     NaN   \n",
      "...                     ...     ...    ...     ...  ...     ...     ...   \n",
      "2015-12-31 19:00:00  7089.0     NaN  730.0  6719.0  ...     NaN     NaN   \n",
      "2015-12-31 20:00:00  6988.0     NaN  642.0  6468.0  ...     NaN     NaN   \n",
      "2015-12-31 21:00:00  6868.0     NaN  566.0  6329.0  ...     NaN     NaN   \n",
      "2015-12-31 22:00:00  6906.0     NaN  540.0  6171.0  ...     NaN     NaN   \n",
      "2015-12-31 23:00:00  6897.0     NaN  538.0  6040.0  ...     NaN     NaN   \n",
      "\n",
      "                     NL_TMP  NO_TMP  PL_TMP  PT_TMP  RO_TMP  SE_TMP  SI_TMP  \\\n",
      "DateTime                                                                      \n",
      "2006-01-01 00:00:00     1.5    -4.9    -7.0     8.1    -5.1    -7.3    -3.4   \n",
      "2006-01-01 01:00:00     NaN     NaN     NaN     NaN     NaN     NaN     NaN   \n",
      "2006-01-01 02:00:00     NaN     NaN     NaN     NaN     NaN     NaN     NaN   \n",
      "2006-01-01 03:00:00     NaN     NaN     NaN     NaN     NaN     NaN     NaN   \n",
      "2006-01-01 04:00:00     NaN     NaN     NaN     NaN     NaN     NaN     NaN   \n",
      "...                     ...     ...     ...     ...     ...     ...     ...   \n",
      "2015-12-31 19:00:00     NaN     NaN     NaN     NaN     NaN     NaN     NaN   \n",
      "2015-12-31 20:00:00     NaN     NaN     NaN     NaN     NaN     NaN     NaN   \n",
      "2015-12-31 21:00:00     NaN     NaN     NaN     NaN     NaN     NaN     NaN   \n",
      "2015-12-31 22:00:00     NaN     NaN     NaN     NaN     NaN     NaN     NaN   \n",
      "2015-12-31 23:00:00     NaN     NaN     NaN     NaN     NaN     NaN     NaN   \n",
      "\n",
      "                     SK_TMP  \n",
      "DateTime                     \n",
      "2006-01-01 00:00:00    -8.3  \n",
      "2006-01-01 01:00:00     NaN  \n",
      "2006-01-01 02:00:00     NaN  \n",
      "2006-01-01 03:00:00     NaN  \n",
      "2006-01-01 04:00:00     NaN  \n",
      "...                     ...  \n",
      "2015-12-31 19:00:00     NaN  \n",
      "2015-12-31 20:00:00     NaN  \n",
      "2015-12-31 21:00:00     NaN  \n",
      "2015-12-31 22:00:00     NaN  \n",
      "2015-12-31 23:00:00     NaN  \n",
      "\n",
      "[87648 rows x 206 columns]\n",
      "                           Date     Time      AT      BA      BE      BG  \\\n",
      "DateTime                                                                   \n",
      "2006-01-01 00:00:00    1/1/2006     0:00  6297.0  1425.0  9829.0  4293.0   \n",
      "2006-01-01 01:00:00    1/1/2006  1:00 AM  6005.0  1358.0  9447.0  4186.0   \n",
      "2006-01-01 02:00:00    1/1/2006  2:00 AM  5743.0  1283.0  9062.0  4026.0   \n",
      "2006-01-01 03:00:00    1/1/2006  3:00 AM  5397.0  1175.0  8589.0  3877.0   \n",
      "2006-01-01 04:00:00    1/1/2006  4:00 AM  5213.0  1134.0  8247.0  3724.0   \n",
      "...                         ...      ...     ...     ...     ...     ...   \n",
      "2015-12-31 19:00:00  12/31/2015    19:00  8039.0  1959.0  9377.0  6353.0   \n",
      "2015-12-31 20:00:00  12/31/2015    20:00  7521.0  1810.0  8908.0  5740.0   \n",
      "2015-12-31 21:00:00  12/31/2015    21:00  7223.0  1680.0  8682.0  5273.0   \n",
      "2015-12-31 22:00:00  12/31/2015    22:00  7424.0  1606.0  9045.0  5161.0   \n",
      "2015-12-31 23:00:00  12/31/2015    23:00  7094.0  1537.0  9176.0  5105.0   \n",
      "\n",
      "                         CH      CS     CY      CZ  ...  LV_TMP  MK_TMP  \\\n",
      "DateTime                                            ...                   \n",
      "2006-01-01 00:00:00     0.0  5781.0    NaN  6631.0  ...    -5.9    -2.7   \n",
      "2006-01-01 01:00:00     0.0  5747.0    NaN  6346.0  ...    -5.9    -2.7   \n",
      "2006-01-01 02:00:00     0.0  5380.0    NaN  6365.0  ...    -5.9    -2.7   \n",
      "2006-01-01 03:00:00     0.0  4978.0    NaN  6134.0  ...    -5.9    -2.7   \n",
      "2006-01-01 04:00:00     0.0  4735.0    NaN  6361.0  ...    -5.9    -2.7   \n",
      "...                     ...     ...    ...     ...  ...     ...     ...   \n",
      "2015-12-31 19:00:00  7089.0  6022.0  730.0  6719.0  ...    -1.3     2.0   \n",
      "2015-12-31 20:00:00  6988.0  6022.0  642.0  6468.0  ...    -1.3     2.0   \n",
      "2015-12-31 21:00:00  6868.0  6022.0  566.0  6329.0  ...    -1.3     2.0   \n",
      "2015-12-31 22:00:00  6906.0  6022.0  540.0  6171.0  ...    -1.3     2.0   \n",
      "2015-12-31 23:00:00  6897.0  6022.0  538.0  6040.0  ...    -1.3     2.0   \n",
      "\n",
      "                     NL_TMP  NO_TMP  PL_TMP  PT_TMP  RO_TMP  SE_TMP  SI_TMP  \\\n",
      "DateTime                                                                      \n",
      "2006-01-01 00:00:00     1.5    -4.9    -7.0     8.1    -5.1    -7.3    -3.4   \n",
      "2006-01-01 01:00:00     1.5    -4.9    -7.0     8.1    -5.1    -7.3    -3.4   \n",
      "2006-01-01 02:00:00     1.5    -4.9    -7.0     8.1    -5.1    -7.3    -3.4   \n",
      "2006-01-01 03:00:00     1.5    -4.9    -7.0     8.1    -5.1    -7.3    -3.4   \n",
      "2006-01-01 04:00:00     1.5    -4.9    -7.0     8.1    -5.1    -7.3    -3.4   \n",
      "...                     ...     ...     ...     ...     ...     ...     ...   \n",
      "2015-12-31 19:00:00     5.2    -4.1     1.2     9.6     1.0    -5.0     2.4   \n",
      "2015-12-31 20:00:00     5.2    -4.1     1.2     9.6     1.0    -5.0     2.4   \n",
      "2015-12-31 21:00:00     5.2    -4.1     1.2     9.6     1.0    -5.0     2.4   \n",
      "2015-12-31 22:00:00     5.2    -4.1     1.2     9.6     1.0    -5.0     2.4   \n",
      "2015-12-31 23:00:00     5.2    -4.1     1.2     9.6     1.0    -5.0     2.4   \n",
      "\n",
      "                     SK_TMP  \n",
      "DateTime                     \n",
      "2006-01-01 00:00:00    -8.3  \n",
      "2006-01-01 01:00:00    -8.3  \n",
      "2006-01-01 02:00:00    -8.3  \n",
      "2006-01-01 03:00:00    -8.3  \n",
      "2006-01-01 04:00:00    -8.3  \n",
      "...                     ...  \n",
      "2015-12-31 19:00:00     0.2  \n",
      "2015-12-31 20:00:00     0.2  \n",
      "2015-12-31 21:00:00     0.2  \n",
      "2015-12-31 22:00:00     0.2  \n",
      "2015-12-31 23:00:00     0.2  \n",
      "\n",
      "[87648 rows x 206 columns]\n"
     ]
    }
   ],
   "source": [
    "joined = joined.join(pop, on='DateTime', how='left', lsuffix = '', rsuffix = '_POP', sort=False)\n",
    "joined = joined.join(tmp, on='DateTime', how='left', lsuffix = '', rsuffix = '_TMP', sort=False)\n",
    "joined = joined.replace(',','', regex=True)\n",
    "joined_interpolate = joined.interpolate(method='ffill') # or method='index' works too\n",
    "#pl = joined[['PL','PL_GDP','PL_POP', 'PL_TMP']]\n",
    "print(joined)\n",
    "print(joined_interpolate)"
   ]
  },
  {
   "cell_type": "code",
   "execution_count": 7,
   "metadata": {},
   "outputs": [
    {
     "name": "stdout",
     "output_type": "stream",
     "text": [
      "                          DE   DE_GDP      DE_POP      DE_POP  DE_TMP  DE_TMP\n",
      "DateTime                                                                     \n",
      "2006-01-01 00:00:00  47823.0  2994.70  81472226.0  81472226.0    -2.3    -2.3\n",
      "2006-01-01 01:00:00  47823.0  2994.70  81472226.0  81472226.0    -2.3    -2.3\n",
      "2006-01-01 02:00:00  43444.0  2994.70  81472226.0  81472226.0    -2.3    -2.3\n",
      "2006-01-01 03:00:00  41432.0  2994.70  81472226.0  81472226.0    -2.3    -2.3\n",
      "2006-01-01 04:00:00  40508.0  2994.70  81472226.0  81472226.0    -2.3    -2.3\n",
      "...                      ...      ...         ...         ...     ...     ...\n",
      "2015-12-31 19:00:00  52481.0  3357.59  81787411.0  81787411.0     2.6     2.6\n",
      "2015-12-31 20:00:00  49056.0  3357.59  81787411.0  81787411.0     2.6     2.6\n",
      "2015-12-31 21:00:00  47253.0  3357.59  81787411.0  81787411.0     2.6     2.6\n",
      "2015-12-31 22:00:00  47057.0  3357.59  81787411.0  81787411.0     2.6     2.6\n",
      "2015-12-31 23:00:00  45305.0  3357.59  81787411.0  81787411.0     2.6     2.6\n",
      "\n",
      "[87648 rows x 6 columns]\n"
     ]
    }
   ],
   "source": [
    "# get country-specific datasets\n",
    "\n",
    "country_datasets = []\n",
    "country_list = ['PL', 'DE']\n",
    "\n",
    "for country in country_list:\n",
    "    country_dataset = joined_interpolate[[country, country + '_GDP', country+ '_POP', country+'_TMP']]\n",
    "    country_datasets.append([country, country_dataset])\n",
    "\n",
    "for each in country_datasets:\n",
    "    name = each[0]\n",
    "    dataset = each[1]\n",
    "\n",
    "print(dataset)"
   ]
  },
  {
   "cell_type": "code",
   "execution_count": 5,
   "metadata": {},
   "outputs": [
    {
     "name": "stdout",
     "output_type": "stream",
     "text": [
      "SVR(degree=20, kernel='poly')\n",
      "24\n"
     ]
    },
    {
     "data": {
      "image/png": "[encoded data removed]",
      "text/plain": [
       "<Figure size 432x288 with 1 Axes>"
      ]
     },
     "metadata": {
      "needs_background": "light"
     },
     "output_type": "display_data"
    }
   ],
   "source": [
    "from sklearn.model_selection import train_test_split\n",
    "from sklearn.preprocessing import MinMaxScaler\n",
    "\n",
    "nonan = dataset.dropna()\n",
    "#nonan = nonan.groupby(pd.Grouper(level='DateTime', axis=0, freq='24H')).sum()\n",
    "#print(nonan)\n",
    "\n",
    "nonan = nonan.groupby(pd.Grouper(level='DateTime', axis=0, freq='M')).sum()\n",
    "#print(nonan)\n",
    "'''\n",
    "# normalize\n",
    "scaler = MinMaxScaler()\n",
    "df_scaled = scaler.fit_transform(nonan.to_numpy())\n",
    "df_scaled = pd.DataFrame(df_scaled, columns = ['DE_GDP', 'DE_POP', 'DE_TMP'])\n",
    "'''\n",
    "# normalize\n",
    "nonan = nonan / nonan.max(axis=0) # works\n",
    "\n",
    "x_train, x_test, y_train, y_test = train_test_split(nonan.iloc[:, 1:].values, nonan['DE'].values,test_size=0.2)\n",
    "\n",
    "\n",
    "\n",
    "from sklearn.svm import SVR\n",
    "svr = SVR(kernel=\"poly\", degree=20, C=1.0, epsilon=0.1).fit(x_train, y_train)\n",
    "\n",
    "#svr = SVR().fit(x_train, y_train)\n",
    "\n",
    "print(svr)\n",
    "\n",
    "y_train_predict = svr.predict(x_test)\n",
    "\n",
    "print(y_train_predict.size)\n",
    "\n",
    "#plt.plot( y_train_predict, lw=1, color=\"red\", label=\"fitted\")\n",
    "plt.plot( y_train, lw=2, color=\"blue\", label=\"y train\")\n",
    "plt.plot( y_train_predict, lw=2, color=\"red\", label=\"y predict\")\n",
    "plt.legend()\n",
    "plt.title(\"PL Preliminary SVM Results\")\n",
    "plt.xlabel(\"Index\")\n",
    "plt.rcParams[\"figure.figsize\"] = (20,10)\n",
    "plt.show()"
   ]
  },
  {
   "cell_type": "code",
   "execution_count": null,
   "metadata": {},
   "outputs": [],
   "source": []
  }
 ],
 "metadata": {
  "kernelspec": {
   "display_name": "Python 3 (ipykernel)",
   "language": "python",
   "name": "python3"
  },
  "language_info": {
   "codemirror_mode": {
    "name": "ipython",
    "version": 3
   },
   "file_extension": ".py",
   "mimetype": "text/x-python",
   "name": "python",
   "nbconvert_exporter": "python",
   "pygments_lexer": "ipython3",
   "version": "3.9.7"
  }
 },
 "nbformat": 4,
 "nbformat_minor": 2
}
