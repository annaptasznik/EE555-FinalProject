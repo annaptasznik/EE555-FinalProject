{
 "cells": [
  {
   "cell_type": "code",
   "execution_count": 1,
   "metadata": {},
   "outputs": [],
   "source": [
    "import pandas as pd\n",
    "import matplotlib.pyplot as plt\n",
    "import numpy as np\n",
    "import sklearn.metrics\n",
    "from sklearn.linear_model import LinearRegression\n",
    "from sklearn.model_selection import GridSearchCV\n",
    "from sklearn.model_selection import train_test_split\n",
    "from sklearn.preprocessing import MinMaxScaler\n",
    "import warnings\n",
    "warnings.filterwarnings('ignore')"
   ]
  },
  {
   "cell_type": "code",
   "execution_count": 2,
   "metadata": {},
   "outputs": [],
   "source": [
    "#import data \n",
    "import csv\n",
    "df = pd.read_csv(r'C:\\Users\\rackley\\Desktop\\grad school\\555\\EE555-FinalProject-main\\load_per_country.csv', parse_dates=['DateTime'], index_col = ['DateTime'])\n",
    "gdp = pd.read_csv(r'C:\\Users\\rackley\\Desktop\\grad school\\555\\EE555-FinalProject-main\\gdp_per_country.csv', parse_dates=['DateTime'], index_col = ['DateTime'])\n",
    "pop = pd.read_csv(r'C:\\Users\\rackley\\Desktop\\grad school\\555\\EE555-FinalProject-main\\population_per_country.csv', parse_dates=['DateTime'], index_col = ['DateTime'])\n",
    "tmp =  pd.read_csv(r'C:\\Users\\rackley\\Desktop\\grad school\\555\\EE555-FinalProject-main\\tmp_per_country.csv', parse_dates=['DateTime'], index_col = ['DateTime'])\n",
    "\n"
   ]
  },
  {
   "cell_type": "code",
   "execution_count": 3,
   "metadata": {},
   "outputs": [],
   "source": [
    "#join all information\n",
    "joined = df.join(gdp, on='DateTime', how='left', lsuffix = '', rsuffix = '_GDP', sort=False)\n",
    "joined = joined.join(pop, on='DateTime', how='left', lsuffix = '', rsuffix = '_POP', sort=False)\n",
    "joined = joined.join(tmp, on='DateTime', how='left', lsuffix = '', rsuffix = '_TMP', sort=False)\n",
    "joined = joined.replace(',','', regex=True)\n",
    "joined_interpolate = joined.interpolate(method='ffill') # or method='index' works too\n",
    "\n"
   ]
  },
  {
   "cell_type": "code",
   "execution_count": 4,
   "metadata": {},
   "outputs": [],
   "source": [
    "#data for Poland [PL] and Germany [DE]\n",
    "country_datasets = []\n",
    "country_list = ['PL', 'DE']\n",
    "\n",
    "for country in country_list: \n",
    "    country_dataset = joined_interpolate[[country, country + '_GDP', country+ '_POP', country+'_TMP']]\n",
    "    country_datasets.append([country, country_dataset])\n",
    "\n",
    "for each in country_datasets: \n",
    "    name = each[0]\n",
    "    dataset = each[1]\n",
    "    "
   ]
  },
  {
   "cell_type": "code",
   "execution_count": 5,
   "metadata": {},
   "outputs": [],
   "source": [
    "nonan = dataset.dropna()\n",
    "#nonan = nonan.groupby(pd.Grouper(level='DateTime', axis=0, freq='24H')).sum()\n",
    "\n",
    "nonan = nonan.groupby(pd.Grouper(level='DateTime', axis=0, freq='M')).sum()\n",
    "\n",
    "# normalize\n",
    "nonan = nonan / nonan.max(axis=0) # works\n",
    "\n",
    "x_train, x_test, y_train, y_test = train_test_split(nonan.iloc[:, :1].values, nonan['DE'].values,test_size=0.2)\n",
    "\n"
   ]
  },
  {
   "cell_type": "code",
   "execution_count": 7,
   "metadata": {},
   "outputs": [
    {
     "name": "stdout",
     "output_type": "stream",
     "text": [
      "Coefficients: \n",
      " [1.]\n",
      "Mean squared error: 0.00\n",
      "Coefficient of determination: 1.00\n"
     ]
    },
    {
     "data": {
      "image/png": "[encoded data removed]",
      "text/plain": [
       "<Figure size 432x288 with 1 Axes>"
      ]
     },
     "metadata": {
      "needs_background": "light"
     },
     "output_type": "display_data"
    }
   ],
   "source": [
    "# logistic regression\n",
    "from sklearn import preprocessing\n",
    "import matplotlib.pyplot as plt \n",
    "plt.rc(\"font\", size=14)\n",
    "from sklearn import linear_model\n",
    "from sklearn.linear_model import LinearRegression\n",
    "from sklearn.model_selection import train_test_split\n",
    "from sklearn import datasets, linear_model\n",
    "from sklearn.metrics import mean_squared_error, r2_score\n",
    "\n",
    "\n",
    "#Create linear regression\n",
    "reg = linear_model.LinearRegression()\n",
    "\n",
    "#Train the model using the training sets \n",
    "reg.fit(x_train,y_train)\n",
    "\n",
    "#Making a predictions using test set \n",
    "y_pred = reg.predict(x_test)\n",
    "\n",
    "#The coefficients \n",
    "print(\"Coefficients: \\n\", reg.coef_)\n",
    "#The mean squared error \n",
    "print(\"Mean squared error: %.2f\"% mean_squared_error(y_test, y_pred))\n",
    "#the coefficient of determination : 1 is perfect prediction \n",
    "print(\"Coefficient of determination: %.2f\" % r2_score(y_test, y_pred))\n",
    "\n",
    "#plot outputs \n",
    "plt.scatter(x_test, y_test, color =\"black\")\n",
    "plt.plot(x_test, y_pred, color =\"blue\", linewidth=1)\n",
    "\n",
    "#plt.xticks(())\n",
    "#plt.yticks(())\n",
    "\n",
    "plt.ylabel('')\n",
    "plt.xlabel('')\n",
    "\n",
    "plt.show()\n",
    "\n"
   ]
  },
  {
   "cell_type": "code",
   "execution_count": 8,
   "metadata": {},
   "outputs": [],
   "source": [
    "#join all information\n",
    "joined = df.join(gdp, on='DateTime', how='left', lsuffix = '', rsuffix = '_GDP', sort=False)\n",
    "joined = joined.join(pop, on='DateTime', how='left', lsuffix = '', rsuffix = '_POP', sort=False)\n",
    "joined = joined.join(tmp, on='DateTime', how='left', lsuffix = '', rsuffix = '_TMP', sort=False)\n",
    "joined = joined.replace(',','', regex=True)\n",
    "joined_interpolate = joined.interpolate(method='ffill') # or method='index' works too"
   ]
  },
  {
   "cell_type": "code",
   "execution_count": 9,
   "metadata": {},
   "outputs": [],
   "source": [
    "#data for Poland [PL] and Germany [DE]\n",
    "country_datasets = []\n",
    "country_list = ['PL']\n",
    "\n",
    "for country in country_list: \n",
    "    country_dataset = joined_interpolate[[country, country + '_GDP', country+ '_POP']]\n",
    "    country_datasets.append([country, country_dataset])\n",
    "    \n",
    "    \n",
    "for each in country_datasets: \n",
    "    name = each[1]\n",
    "    dataset = each[1]"
   ]
  },
  {
   "cell_type": "code",
   "execution_count": 10,
   "metadata": {},
   "outputs": [],
   "source": [
    "nonan = dataset.dropna()\n",
    "#nonan = nonan.groupby(pd.Grouper(level='DateTime', axis=0, freq='24H')).sum()\n",
    "\n",
    "nonan = nonan.groupby(pd.Grouper(level='DateTime', axis=0, freq='M')).sum()\n",
    "\n",
    "# normalize\n",
    "nonan = nonan / nonan.max(axis=0) # works\n",
    "\n",
    "PL_x_train, PL_x_test, PL_y_train, PL_y_test = train_test_split(nonan.iloc[:, :1].values, nonan['PL'].values,test_size=0.2)\n",
    "\n"
   ]
  },
  {
   "cell_type": "code",
   "execution_count": 12,
   "metadata": {},
   "outputs": [
    {
     "name": "stdout",
     "output_type": "stream",
     "text": [
      "Poland: GDP, Population & Temperature Coefficients: \n",
      " [1.]\n",
      "Poland: GDP, Population & Temperature Mean squared error: 0.00\n",
      "Poland: GDP, Population & Temperature Coefficient of determination: 1.00\n"
     ]
    },
    {
     "data": {
      "image/png": "[encoded data removed]",
      "text/plain": [
       "<Figure size 432x288 with 1 Axes>"
      ]
     },
     "metadata": {
      "needs_background": "light"
     },
     "output_type": "display_data"
    }
   ],
   "source": [
    "\n",
    "#Create linear regression\n",
    "reg = linear_model.LinearRegression()\n",
    "\n",
    "#Train the model using the training sets \n",
    "reg.fit(PL_x_train,PL_y_train)\n",
    "\n",
    "#Making a predictions using test set \n",
    "PL_y_pred = reg.predict(PL_x_test)\n",
    "\n",
    "#The coefficients \n",
    "print(\"Poland: GDP, Population & Temperature Coefficients: \\n\", reg.coef_)\n",
    "#The mean squared error \n",
    "print(\"Poland: GDP, Population & Temperature Mean squared error: %.2f\"% mean_squared_error(PL_y_test, PL_y_pred))\n",
    "#the coefficient of determination : 1 is perfect prediction \n",
    "print(\"Poland: GDP, Population & Temperature Coefficient of determination: %.2f\" % r2_score(PL_y_test, PL_y_pred))\n",
    "\n",
    "#plot outputs \n",
    "plt.scatter(PL_x_test, PL_y_test, color =\"blue\",label ='Poland')\n",
    "plt.plot(PL_x_test,PL_y_pred, color =\"blue\", linewidth=0.5, label='Poland:Learned')\n",
    "\n",
    "plt.scatter(x_test, y_test, color =\"red\", label ='Germany')\n",
    "plt.plot(x_test, y_pred, color =\"red\", linewidth=0.5, label='Germany:Learned')\n",
    "\n",
    "#plt.xticks(())\n",
    "#plt.yticks(())\n",
    "\n",
    "# displaying the title\n",
    "plt.title(\"Linear Regression:GDP, Population & Temperature \")\n",
    "plt.legend()\n",
    "\n",
    "plt.show()"
   ]
  },
  {
   "cell_type": "code",
   "execution_count": null,
   "metadata": {},
   "outputs": [],
   "source": []
  },
  {
   "cell_type": "code",
   "execution_count": 13,
   "metadata": {},
   "outputs": [
    {
     "name": "stdout",
     "output_type": "stream",
     "text": [
      "Coefficients: \n",
      " [1.]\n",
      "Mean squared error: 0.00\n",
      "Coefficient of determination: 1.00\n"
     ]
    },
    {
     "data": {
      "image/png": "[encoded data removed]",
      "text/plain": [
       "<Figure size 432x288 with 1 Axes>"
      ]
     },
     "metadata": {
      "needs_background": "light"
     },
     "output_type": "display_data"
    }
   ],
   "source": [
    "# plot 2 without GDP data \n",
    "\n",
    "#join all information \n",
    "joined = df.join(pop, on='DateTime', how='left', lsuffix = '', rsuffix = '_POP', sort=False)\n",
    "joined = joined.join(tmp, on='DateTime', how='left', lsuffix = '', rsuffix = '_TMP', sort=False)\n",
    "joined = joined.replace(',','', regex=True)\n",
    "joined_interpolate = joined.interpolate(method='ffill') # or method='index' works too\n",
    "\n",
    "#data for Poland [PL] and Germany [DE]\n",
    "country_datasets = []\n",
    "country_list = ['PL', 'DE']\n",
    "\n",
    "for country in country_list: \n",
    "    country_dataset = joined_interpolate[[country, country+ '_POP', country+'_TMP']]\n",
    "    country_datasets.append([country, country_dataset])\n",
    "\n",
    "for each in country_datasets: \n",
    "    name = each[0]\n",
    "    dataset = each[1]\n",
    " \n",
    "\n",
    "nonan = dataset.dropna()\n",
    "#nonan = nonan.groupby(pd.Grouper(level='DateTime', axis=0, freq='24H')).sum()\n",
    "\n",
    "nonan = nonan.groupby(pd.Grouper(level='DateTime', axis=0, freq='M')).sum()\n",
    "\n",
    "# normalize\n",
    "nonan = nonan / nonan.max(axis=0) # works\n",
    "\n",
    "x_train_PT, x_test_PT, y_train_PT, y_test_PT = train_test_split(nonan.iloc[:, :1].values, nonan['DE'].values,test_size=0.2)\n",
    "\n",
    "\n",
    "\n",
    "#Create linear regression\n",
    "reg = linear_model.LinearRegression()\n",
    "\n",
    "#Train the model using the training sets \n",
    "reg.fit(x_train_PT,y_train_PT)\n",
    "\n",
    "#Making a predictions using test set \n",
    "y_pred_PT = reg.predict(x_test_PT)\n",
    "\n",
    "#The coefficients \n",
    "print(\"Coefficients: \\n\", reg.coef_)\n",
    "#The mean squared error \n",
    "print(\"Mean squared error: %.2f\"% mean_squared_error(y_test_PT, y_pred_PT))\n",
    "#the coefficient of determination : 1 is perfect prediction \n",
    "print(\"Coefficient of determination: %.2f\" % r2_score(y_test_PT, y_pred_PT))\n",
    "\n",
    "#plot outputs \n",
    "plt.scatter(x_test_PT, y_test_PT, color =\"black\")\n",
    "plt.plot(x_test_PT, y_pred_PT, color =\"blue\", linewidth=1)\n",
    "\n",
    "#plt.xticks(())\n",
    "#plt.yticks(())\n",
    "\n",
    "plt.ylabel('')\n",
    "plt.xlabel('')\n",
    "\n",
    "plt.show()"
   ]
  },
  {
   "cell_type": "code",
   "execution_count": null,
   "metadata": {},
   "outputs": [],
   "source": []
  },
  {
   "cell_type": "code",
   "execution_count": 14,
   "metadata": {},
   "outputs": [],
   "source": [
    "#join all information\n",
    "joined = df.join(pop, on='DateTime', how='left', lsuffix = '', rsuffix = '_POP', sort=False)\n",
    "joined = joined.join(tmp, on='DateTime', how='left', lsuffix = '', rsuffix = '_TMP', sort=False)\n",
    "joined = joined.replace(',','', regex=True)\n",
    "joined_interpolate = joined.interpolate(method='ffill') # or method='index' works too"
   ]
  },
  {
   "cell_type": "code",
   "execution_count": 15,
   "metadata": {},
   "outputs": [],
   "source": [
    "#data for Poland [PL] and Germany [DE]\n",
    "country_datasets = []\n",
    "country_list = ['PL']\n",
    "\n",
    "for country in country_list: \n",
    "    country_dataset = joined_interpolate[[country, country+ '_POP', country+'_TMP']]\n",
    "    country_datasets.append([country, country_dataset])\n",
    "    \n",
    "    \n",
    "for each in country_datasets: \n",
    "    name = each[1]\n",
    "    dataset = each[1]"
   ]
  },
  {
   "cell_type": "code",
   "execution_count": 16,
   "metadata": {},
   "outputs": [],
   "source": [
    "nonan = dataset.dropna()\n",
    "#nonan = nonan.groupby(pd.Grouper(level='DateTime', axis=0, freq='24H')).sum()\n",
    "\n",
    "nonan = nonan.groupby(pd.Grouper(level='DateTime', axis=0, freq='M')).sum()\n",
    "\n",
    "# normalize\n",
    "nonan = nonan / nonan.max(axis=0) # works\n",
    "\n",
    "PL_x_train_PT, PL_x_test_PT, PL_y_train_PT, PL_y_test_PT = train_test_split(nonan.iloc[:, :1].values, nonan['PL'].values,test_size=0.2)\n",
    "\n"
   ]
  },
  {
   "cell_type": "code",
   "execution_count": 17,
   "metadata": {},
   "outputs": [
    {
     "name": "stdout",
     "output_type": "stream",
     "text": [
      "Poland: GDP, Population & Temperature Coefficients: \n",
      " [1.]\n",
      "Poland: GDP, Population & Temperature Mean squared error: 0.00\n",
      "Poland: GDP, Population & Temperature Coefficient of determination: 1.00\n"
     ]
    },
    {
     "data": {
      "image/png": "[encoded data removed]",
      "text/plain": [
       "<Figure size 432x288 with 1 Axes>"
      ]
     },
     "metadata": {
      "needs_background": "light"
     },
     "output_type": "display_data"
    }
   ],
   "source": [
    "#Create linear regression\n",
    "reg = linear_model.LinearRegression()\n",
    "\n",
    "#Train the model using the training sets \n",
    "reg.fit(PL_x_train_PT,PL_y_train_PT)\n",
    "\n",
    "#Making a predictions using test set \n",
    "PL_y_pred_PT = reg.predict(PL_x_test_PT)\n",
    "\n",
    "#The coefficients \n",
    "print(\"Poland: GDP, Population & Temperature Coefficients: \\n\", reg.coef_)\n",
    "#The mean squared error \n",
    "print(\"Poland: GDP, Population & Temperature Mean squared error: %.2f\"% mean_squared_error(PL_y_test_PT, PL_y_pred_PT))\n",
    "#the coefficient of determination : 1 is perfect prediction \n",
    "print(\"Poland: GDP, Population & Temperature Coefficient of determination: %.2f\" % r2_score(PL_y_test_PT, PL_y_pred_PT))\n",
    "\n",
    "#plot outputs \n",
    "plt.scatter(PL_x_test_PT, PL_y_test_PT, color =\"blue\",label ='Poland')\n",
    "plt.plot(PL_x_test_PT,PL_y_pred_PT, color =\"blue\", linewidth=0.5, label='Poland:Learned')\n",
    "\n",
    "plt.scatter(x_test_PT, y_test_PT, color =\"red\", label ='Germany')\n",
    "plt.plot(x_test_PT, y_pred_PT, color =\"red\", linewidth=0.5, label='Germany:Learned')\n",
    "\n",
    "#plt.xticks(())\n",
    "#plt.yticks(())\n",
    "\n",
    "# displaying the title\n",
    "plt.title(\"Linear Regression:GDP, Population & Temperature \")\n",
    "plt.legend()\n",
    "\n",
    "plt.show()"
   ]
  },
  {
   "cell_type": "code",
   "execution_count": null,
   "metadata": {},
   "outputs": [],
   "source": []
  },
  {
   "cell_type": "code",
   "execution_count": null,
   "metadata": {},
   "outputs": [],
   "source": []
  },
  {
   "cell_type": "code",
   "execution_count": 18,
   "metadata": {
    "scrolled": true
   },
   "outputs": [
    {
     "name": "stdout",
     "output_type": "stream",
     "text": [
      "Coefficients: \n",
      " [1.]\n",
      "Mean squared error: 0.00\n",
      "Coefficient of determination: 1.00\n"
     ]
    },
    {
     "data": {
      "image/png": "[encoded data removed]",
      "text/plain": [
       "<Figure size 432x288 with 1 Axes>"
      ]
     },
     "metadata": {
      "needs_background": "light"
     },
     "output_type": "display_data"
    }
   ],
   "source": [
    "# plot 2 with temperature data \n",
    "\n",
    "joined = df.join(gdp, on='DateTime', how='left', lsuffix = '', rsuffix = '_GDP', sort=False)\n",
    "joined = joined.join(pop, on='DateTime', how='left', lsuffix = '', rsuffix = '_POP', sort=False)\n",
    "joined = joined.replace(',','', regex=True)\n",
    "joined_interpolate = joined.interpolate(method='ffill') # or method='index' works too\n",
    "\n",
    "#data for Poland [PL] and Germany [DE]\n",
    "country_datasets = []\n",
    "country_list = ['PL', 'DE']\n",
    "\n",
    "for country in country_list: \n",
    "    country_dataset = joined_interpolate[[country, country + '_GDP', country+ '_POP']]\n",
    "    country_datasets.append([country, country_dataset])\n",
    "\n",
    "for each in country_datasets: \n",
    "    name = each[0]\n",
    "    dataset = each[1]\n",
    " \n",
    "\n",
    "nonan = dataset.dropna()\n",
    "#nonan = nonan.groupby(pd.Grouper(level='DateTime', axis=0, freq='24H')).sum()\n",
    "\n",
    "nonan = nonan.groupby(pd.Grouper(level='DateTime', axis=0, freq='M')).sum()\n",
    "\n",
    "# normalize\n",
    "nonan = nonan / nonan.max(axis=0) # works\n",
    "\n",
    "DE_x_train_GDP, DE_x_test_GDP, DE_y_train_GDP, DE_y_test_GDP = train_test_split(nonan.iloc[:, :1].values, nonan['DE'].values,test_size=0.2)\n",
    "\n",
    "\n",
    "\n",
    "#Create linear regression\n",
    "reg = linear_model.LinearRegression()\n",
    "\n",
    "#Train the model using the training sets \n",
    "reg.fit(DE_x_train_GDP,DE_y_train_GDP)\n",
    "\n",
    "#Making a predictions using test set \n",
    "DE_GDP_y_pred = reg.predict(DE_x_test_GDP)\n",
    "\n",
    "#The coefficients \n",
    "print(\"Coefficients: \\n\", reg.coef_)\n",
    "#The mean squared error \n",
    "print(\"Mean squared error: %.2f\"% mean_squared_error(DE_y_test_GDP, DE_GDP_y_pred))\n",
    "#the coefficient of determination : 1 is perfect prediction \n",
    "print(\"Coefficient of determination: %.2f\" % r2_score(DE_y_test_GDP, DE_GDP_y_pred))\n",
    "\n",
    "#plot outputs \n",
    "plt.scatter(DE_x_test_GDP, DE_y_test_GDP, color =\"black\")\n",
    "plt.plot(DE_x_test_GDP, DE_GDP_y_pred, color =\"blue\", linewidth=1)\n",
    "\n",
    "#plt.xticks(())\n",
    "#plt.yticks(())\n",
    "\n",
    "plt.title(\"Linear Regression: Germany Trained Date, GDP and Population\")\n",
    "\n",
    "plt.show()"
   ]
  },
  {
   "cell_type": "code",
   "execution_count": 19,
   "metadata": {},
   "outputs": [],
   "source": [
    "##### used PL to train\n",
    "joined = df.join(gdp, on='DateTime', how='left', lsuffix = '', rsuffix = '_GDP', sort=False)\n",
    "joined = joined.join(pop, on='DateTime', how='left', lsuffix = '', rsuffix = '_POP', sort=False)\n",
    "joined = joined.replace(',','', regex=True)\n",
    "joined_interpolate = joined.interpolate(method='ffill') # or method='index' works too\n",
    "\n"
   ]
  },
  {
   "cell_type": "code",
   "execution_count": 20,
   "metadata": {},
   "outputs": [],
   "source": [
    "#data for Poland [PL] and Germany [DE]\n",
    "country_datasets = []\n",
    "country_list = ['PL']\n",
    "\n",
    "for country in country_list: \n",
    "    country_dataset = joined_interpolate[[country, country + '_GDP', country+ '_POP']]\n",
    "    country_datasets.append([country, country_dataset])\n",
    "\n"
   ]
  },
  {
   "cell_type": "code",
   "execution_count": 21,
   "metadata": {},
   "outputs": [],
   "source": [
    "for each in country_datasets: \n",
    "    name = each[1]\n",
    "    dataset = each[1]"
   ]
  },
  {
   "cell_type": "code",
   "execution_count": 22,
   "metadata": {},
   "outputs": [],
   "source": [
    "nonan = dataset.dropna()\n",
    "#nonan = nonan.groupby(pd.Grouper(level='DateTime', axis=0, freq='24H')).sum()\n",
    "\n",
    "nonan = nonan.groupby(pd.Grouper(level='DateTime', axis=0, freq='M')).sum()\n",
    "\n",
    "# normalize\n",
    "nonan = nonan / nonan.max(axis=0) # works\n",
    "\n",
    "\n",
    "x_train_GDP, x_test_GDP, y_train_GDP, y_test_GDP = train_test_split(nonan.iloc[:, :1].values, nonan['PL'].values,test_size=0.2)\n",
    "\n"
   ]
  },
  {
   "cell_type": "code",
   "execution_count": null,
   "metadata": {},
   "outputs": [],
   "source": []
  },
  {
   "cell_type": "code",
   "execution_count": 23,
   "metadata": {},
   "outputs": [
    {
     "name": "stdout",
     "output_type": "stream",
     "text": [
      "Poland: GDP & Population Coefficients: \n",
      " [1.]\n",
      "Poland: GDP & Population Mean squared error: 0.01\n",
      "Poland: GDP & Population Coefficient of determination: -1.48\n"
     ]
    },
    {
     "data": {
      "image/png": "[encoded data removed]",
      "text/plain": [
       "<Figure size 432x288 with 1 Axes>"
      ]
     },
     "metadata": {
      "needs_background": "light"
     },
     "output_type": "display_data"
    }
   ],
   "source": [
    "\n",
    "#Create linear regression\n",
    "reg = linear_model.LinearRegression()\n",
    "\n",
    "#Train the model using the training sets \n",
    "reg.fit(x_train_GDP,y_train_GDP)\n",
    "\n",
    "#Making a predictions using test set \n",
    "GDP_y_pred = reg.predict(x_test_GDP)\n",
    "\n",
    "#The coefficients \n",
    "print(\"Poland: GDP & Population Coefficients: \\n\", reg.coef_)\n",
    "#The mean squared error \n",
    "print(\"Poland: GDP & Population Mean squared error: %.2f\"% mean_squared_error(y_test, GDP_y_pred))\n",
    "#the coefficient of determination : 1 is perfect prediction \n",
    "print(\"Poland: GDP & Population Coefficient of determination: %.2f\" % r2_score(y_test, GDP_y_pred))\n",
    "\n",
    "#plot outputs \n",
    "plt.scatter(x_test_GDP, y_test_GDP, color =\"green\",label ='Poland')\n",
    "plt.plot(x_test_GDP, GDP_y_pred, color =\"green\", linewidth=0.5, label='Poland:Learned')\n",
    "\n",
    "plt.scatter(DE_x_test_GDP, DE_y_test_GDP, color =\"red\", label ='Germany')\n",
    "plt.plot(DE_x_test_GDP, DE_GDP_y_pred, color =\"red\", linewidth=0.5, label='Germany:Learned')\n",
    "\n",
    "#plt.xticks(())\n",
    "#plt.yticks(())\n",
    "\n",
    "# displaying the title\n",
    "plt.title(\"Linear Regression:GDP and Population\")\n",
    "plt.legend()\n",
    "\n",
    "plt.show()"
   ]
  },
  {
   "cell_type": "code",
   "execution_count": null,
   "metadata": {},
   "outputs": [],
   "source": []
  },
  {
   "cell_type": "code",
   "execution_count": null,
   "metadata": {},
   "outputs": [],
   "source": []
  }
 ],
 "metadata": {
  "kernelspec": {
   "display_name": "Python 3",
   "language": "python",
   "name": "python3"
  },
  "language_info": {
   "codemirror_mode": {
    "name": "ipython",
    "version": 3
   },
   "file_extension": ".py",
   "mimetype": "text/x-python",
   "name": "python",
   "nbconvert_exporter": "python",
   "pygments_lexer": "ipython3",
   "version": "3.8.8"
  }
 },
 "nbformat": 4,
 "nbformat_minor": 2
}
